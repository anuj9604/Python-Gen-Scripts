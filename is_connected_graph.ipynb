{
 "cells": [
  {
   "cell_type": "code",
   "execution_count": null,
   "metadata": {},
   "outputs": [],
   "source": [
    "class Graph():\n",
    "    \n",
    "    def __init__(self,num_v):\n",
    "        self.num_v= num_v\n",
    "        self.adj_dict={}\n",
    "        for i in range(num_v):\n",
    "            self.adj_dict[i]=[]\n",
    "            for _ in range(num_v):\n",
    "                self.adj_dict[i].append(0)\n",
    "    \n",
    "    def add_Edge(self, a, b, w):\n",
    "        self.adj_dict[a][b]=w\n",
    "        self.adj_dict[b][a]=w\n",
    "        \n",
    "    def is_connected(self):\n",
    "        for _ in range(self.num_v):\n",
    "            if max(self.adj_dict[_])==0:\n",
    "                return \"This Graph is not connected\"\n",
    "        return \"This Graph is connected\""
   ]
  }
 ],
 "metadata": {
  "kernelspec": {
   "display_name": "Python 3",
   "language": "python",
   "name": "python3"
  },
  "language_info": {
   "codemirror_mode": {
    "name": "ipython",
    "version": 3
   },
   "file_extension": ".py",
   "mimetype": "text/x-python",
   "name": "python",
   "nbconvert_exporter": "python",
   "pygments_lexer": "ipython3",
   "version": "3.8.5"
  }
 },
 "nbformat": 4,
 "nbformat_minor": 4
}
