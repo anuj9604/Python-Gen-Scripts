{
 "cells": [
  {
   "cell_type": "code",
   "execution_count": null,
   "metadata": {},
   "outputs": [],
   "source": [
    "from sympy import *\n",
    "import math\n",
    "def limits():\n",
    "    choice=input(\"Select the function type on which you want to perform limits operation?\\n1. Sine\\n2. 1/x\\n3. Square root\\n4. Negative exponential\\n5. 1/x**2\\n6. Exponential\\n7. Logarithmic\\n8. Quadratic fraction\\n:\")\n",
    "    l=int(input(\"Enter the limit you want: \"))\n",
    "    if 0<int(choice)<9:    \n",
    "        if choice=='1':\n",
    "            x=symbols('x')\n",
    "            f=sin(x)/x\n",
    "            y=limit(f,x,l)\n",
    "        elif choice=='2':\n",
    "            x=symbols('x')\n",
    "            f=1/x\n",
    "            y=limit(f,x,l)\n",
    "        elif choice=='3':\n",
    "            x=symbols('x')\n",
    "            f=sqrt(x)\n",
    "            y=limit(f,x,l)\n",
    "        elif choice=='4':\n",
    "            x=symbols('x')\n",
    "            f=exp(-x)\n",
    "            y=limit(f,x,l)\n",
    "        elif choice=='5':\n",
    "            x=symbols('x')\n",
    "            f=1/(x)**2\n",
    "            y=limit(f,x,l)\n",
    "        elif choice=='6':\n",
    "            x=symbols('x')\n",
    "            f=exp(x)\n",
    "            y=limit(f,x,l)\n",
    "        elif choice=='7':\n",
    "            x=symbols('x')\n",
    "            f=log(x)\n",
    "            y=limit(f,x,l)\n",
    "        elif choice=='8':\n",
    "            var_num1, var_num2, var_num3=input(\"Enter polynomial constant value for numerator quadratic in the form of ax**2+bx+c: \".split())\n",
    "            var_den1, var_den2, var_den3=input(\"Enter polynomial constant value for denominator quadratic in the form of ax**2+bx+c: \".split())\n",
    "            x=symbols('x')\n",
    "            func=((int(var_num1))*(x**2)+(int(var_num2))*(x)+(int(var_num3)))/((int(var_den1))*(x**2)+(int(var_den2))*(x)+(int(var_den3)))\n",
    "            y=limit(f,x,l)\n",
    "        print(\"Output is {}\".format(y))\n",
    "    else:\n",
    "        print(\"Re run the code and enter a valid input. Thank you!\")"
   ]
  }
 ],
 "metadata": {
  "kernelspec": {
   "display_name": "Python 3",
   "language": "python",
   "name": "python3"
  },
  "language_info": {
   "codemirror_mode": {
    "name": "ipython",
    "version": 3
   },
   "file_extension": ".py",
   "mimetype": "text/x-python",
   "name": "python",
   "nbconvert_exporter": "python",
   "pygments_lexer": "ipython3",
   "version": "3.8.5"
  }
 },
 "nbformat": 4,
 "nbformat_minor": 4
}
