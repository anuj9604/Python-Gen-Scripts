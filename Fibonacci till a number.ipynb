{
 "cells": [
  {
   "cell_type": "code",
   "execution_count": 1,
   "metadata": {
    "scrolled": true
   },
   "outputs": [],
   "source": [
    "def fib():\n",
    "    inp=int(input(\"Enter the number til which you want to generate the fibonacci sequence \\n\"))\n",
    "    a=1\n",
    "    b=0\n",
    "    while a<inp:\n",
    "        print(\"{}\\n\".format(a))\n",
    "        a,b=a+b,a"
   ]
  },
  {
   "cell_type": "code",
   "execution_count": 3,
   "metadata": {},
   "outputs": [
    {
     "name": "stdout",
     "output_type": "stream",
     "text": [
      "Enter the number til which you want to generate the fibonacci sequence \n",
      "89\n",
      "1\n",
      "\n",
      "1\n",
      "\n",
      "2\n",
      "\n",
      "3\n",
      "\n",
      "5\n",
      "\n",
      "8\n",
      "\n",
      "13\n",
      "\n",
      "21\n",
      "\n",
      "34\n",
      "\n",
      "55\n",
      "\n"
     ]
    }
   ],
   "source": [
    "fib()"
   ]
  },
  {
   "cell_type": "code",
   "execution_count": null,
   "metadata": {},
   "outputs": [],
   "source": []
  }
 ],
 "metadata": {
  "kernelspec": {
   "display_name": "Python 3",
   "language": "python",
   "name": "python3"
  },
  "language_info": {
   "codemirror_mode": {
    "name": "ipython",
    "version": 3
   },
   "file_extension": ".py",
   "mimetype": "text/x-python",
   "name": "python",
   "nbconvert_exporter": "python",
   "pygments_lexer": "ipython3",
   "version": "3.8.5"
  }
 },
 "nbformat": 4,
 "nbformat_minor": 4
}
