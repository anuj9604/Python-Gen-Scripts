{
 "cells": [
  {
   "cell_type": "code",
   "execution_count": null,
   "metadata": {},
   "outputs": [],
   "source": [
    "from tkinter import *\n",
    "import datetime\n",
    "import time\n",
    "import winsound\n",
    "\n",
    "def alarm(set_alarm_timer):\n",
    "    while True:\n",
    "        time.sleep(1)\n",
    "        current_time=datetime.datetime.now()\n",
    "        now = current_time.strftime(\"%H:%M:%S\")\n",
    "        date = current_time.strftime(\"%d/%m/%Y\")\n",
    "        if now == set_alarm_timer:\n",
    "            print(\"Time to Wake up\")\n",
    "            print(\"The Set Date is:\". date)\n",
    "            print(now)\n",
    "            winsound.PlaySound(\"sound.wav\", winsound.SND_ASYNC)\n",
    "            break\n",
    "        \n",
    "def actual_time():\n",
    "    set_alarm_timer= f\"{hour.get()}:{min.get()}:{sec.get()}\"\n",
    "    alarm(set_alarm_timer)\n",
    "    \n",
    "clock=Tk()\n",
    "clock.title(\"My Visual Alarm Clock\")\n",
    "clock.geometry(\"400x200\")\n",
    "time_format=Label(clock, text=\"Enter time in 24 hour format\", fg=\"red\", bg=\"black\", font=\"arial\").place(x=75, y=150)\n",
    "add_time=Label(clock, text=\"Hour    Min    Sec\", fg=\"black\", bg=\"silver\", font=(\"Verdana\", 10)).place(x=100)\n",
    "set_your_alarm=Label(clock, text=\"When to wake you up(Please enter time in 24 hrs format)\", fg=\"white\", bg=\"green\", font=(\"Arial\", 7, \"bold\")).place(y=50)\n",
    "\n",
    "hour = StringVar()\n",
    "min = StringVar()\n",
    "sec = StringVar()\n",
    "\n",
    "hourTime= Entry(clock,textvariable = hour,bg = \"pink\",width = 15).place(x=110,y=75)\n",
    "minTime= Entry(clock,textvariable = min,bg = \"pink\",width = 15).place(x=150,y=75)\n",
    "secTime = Entry(clock,textvariable = sec,bg = \"pink\",width = 15).place(x=200,y=75)\n",
    "\n",
    "submit = Button(clock,text = \"Set Alarm\",fg=\"red\",width = 10,command = actual_time).place(x =110,y=100)\n",
    "\n",
    "clock.mainloop()\n"
   ]
  }
 ],
 "metadata": {
  "kernelspec": {
   "display_name": "Python 3",
   "language": "python",
   "name": "python3"
  },
  "language_info": {
   "codemirror_mode": {
    "name": "ipython",
    "version": 3
   },
   "file_extension": ".py",
   "mimetype": "text/x-python",
   "name": "python",
   "nbconvert_exporter": "python",
   "pygments_lexer": "ipython3",
   "version": "3.8.5"
  }
 },
 "nbformat": 4,
 "nbformat_minor": 4
}
