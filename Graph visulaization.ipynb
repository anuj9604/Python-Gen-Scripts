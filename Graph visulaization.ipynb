{
 "cells": [
  {
   "cell_type": "code",
   "execution_count": null,
   "metadata": {},
   "outputs": [],
   "source": [
    "# First networkx library is imported\n",
    "# along with matplotlib\n",
    "import networkx as nx\n",
    "import matplotlib.pyplot as plt\n",
    "\n",
    "\n",
    "# Defining a Class\n",
    "class GraphVisualization:\n",
    "\n",
    "\tdef __init__(self):\n",
    "\t\t\n",
    "\t\t# visual is a list which stores all\n",
    "\t\t# the set of edges that constitutes a\n",
    "\t\t# graph\n",
    "\t\tself.visual = []\n",
    "\t\t\n",
    "\t# addEdge function inputs the vertices of an\n",
    "\t# edge and appends it to the visual list\n",
    "\tdef addEdge(self, a, b):\n",
    "\t\ttemp = [a, b]\n",
    "\t\tself.visual.append(temp)\n",
    "\t\t\n",
    "\t# In visualize function G is an object of\n",
    "\t# class Graph given by networkx G.add_edges_from(visual)\n",
    "\t# creates a graph with a given list\n",
    "\t# nx.draw_networkx(G) - plots the graph\n",
    "\t# plt.show() - displays the graph\n",
    "\tdef visualize(self):\n",
    "\t\tG = nx.Graph()\n",
    "\t\tG.add_edges_from(self.visual)\n",
    "\t\tnx.draw_networkx(G)\n",
    "\t\tplt.show()\n",
    "\n",
    "# Driver code\n",
    "G = GraphVisualization()\n",
    "G.addEdge(1, 0)\n",
    "G.addEdge(1, 2)\n",
    "G.addEdge(1, 3)\n",
    "G.addEdge(5, 3)\n",
    "G.addEdge(3, 4)\n",
    "G.addEdge(2, 0)\n",
    "G.visualize()\n"
   ]
  }
 ],
 "metadata": {
  "kernelspec": {
   "display_name": "Python 3",
   "language": "python",
   "name": "python3"
  },
  "language_info": {
   "codemirror_mode": {
    "name": "ipython",
    "version": 3
   },
   "file_extension": ".py",
   "mimetype": "text/x-python",
   "name": "python",
   "nbconvert_exporter": "python",
   "pygments_lexer": "ipython3",
   "version": "3.8.5"
  }
 },
 "nbformat": 4,
 "nbformat_minor": 4
}
