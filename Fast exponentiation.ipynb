{
 "cells": [
  {
   "cell_type": "code",
   "execution_count": null,
   "metadata": {},
   "outputs": [],
   "source": [
    "def fast_expo():\n",
    "    base, power=input(\"Enter the base and power for the calculation: \").split()\n",
    "    def f_powers(base, power):\n",
    "        if power==0:\n",
    "            return 1\n",
    "        elif power%2==0:\n",
    "            y=f_powers(base, power/2)\n",
    "            return y*y\n",
    "        else:\n",
    "            y=f_powers(base, power-1)\n",
    "            return base*y\n",
    "    print(f_powers(int(base), int(power)))"
   ]
  }
 ],
 "metadata": {
  "kernelspec": {
   "display_name": "Python 3",
   "language": "python",
   "name": "python3"
  },
  "language_info": {
   "codemirror_mode": {
    "name": "ipython",
    "version": 3
   },
   "file_extension": ".py",
   "mimetype": "text/x-python",
   "name": "python",
   "nbconvert_exporter": "python",
   "pygments_lexer": "ipython3",
   "version": "3.8.5"
  }
 },
 "nbformat": 4,
 "nbformat_minor": 4
}
