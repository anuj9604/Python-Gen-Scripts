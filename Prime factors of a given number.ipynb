{
 "cells": [
  {
   "cell_type": "code",
   "execution_count": null,
   "metadata": {},
   "outputs": [],
   "source": [
    "def prime():\n",
    "    inp=int(input(\"Enter the number for which you want to find out prime factor: \"))\n",
    "    prime_factor={}\n",
    "    i=0\n",
    "    sqrt=int((inp**0.5)+1)\n",
    "    while inp%2==0:\n",
    "        i+=1\n",
    "        if i==1:\n",
    "            prime_factor= {\"2\": i}\n",
    "        else:\n",
    "            prime_factor[\"2\"]+=1\n",
    "        inp=inp/2\n",
    "    for ele in range(3,sqrt,2):\n",
    "        j=0\n",
    "        while inp%ele==0:\n",
    "            j+=1\n",
    "            if j==1:\n",
    "                prime_factor[\"{}\".format(ele)]=j\n",
    "            else:\n",
    "                prime_factor[\"{}\".format(ele)]+=1\n",
    "            inp=inp/ele\n",
    "    if inp>3:\n",
    "        prime_factor[\"{}\".format(int(inp))]=1\n",
    "    print(prime_factor)"
   ]
  }
 ],
 "metadata": {
  "kernelspec": {
   "display_name": "Python 3",
   "language": "python",
   "name": "python3"
  },
  "language_info": {
   "codemirror_mode": {
    "name": "ipython",
    "version": 3
   },
   "file_extension": ".py",
   "mimetype": "text/x-python",
   "name": "python",
   "nbconvert_exporter": "python",
   "pygments_lexer": "ipython3",
   "version": "3.8.5"
  }
 },
 "nbformat": 4,
 "nbformat_minor": 4
}
