{
 "cells": [
  {
   "cell_type": "code",
   "execution_count": null,
   "metadata": {},
   "outputs": [],
   "source": [
    "class Graph():\n",
    "    \n",
    "    def __init__(self, v):\n",
    "        self.v=v\n",
    "        self.graph={}\n",
    "        for i in range(v):\n",
    "            self.graph[i]=[]\n",
    "        for j in range(v):\n",
    "            i=0\n",
    "            while i<v:\n",
    "                self.graph[j].append(0)\n",
    "                i+=1\n",
    "        \n",
    "    def addEdge(self, u,v):\n",
    "        self.graph[u][v]=1\n",
    "        self.graph[v][u]=1\n",
    "        \n",
    "    def v_degree(self):\n",
    "        degree={}\n",
    "        for i in range(self.v):\n",
    "            degree[i]=0\n",
    "            for j in range(self.v):\n",
    "                if self.graph[i][j]==1:\n",
    "                    degree[i]+=1\n",
    "        return degree\n",
    "        \n",
    "    def is_Eulerian(self):\n",
    "        degree= self.v_degree()\n",
    "        t=0\n",
    "        for i in range(v):\n",
    "            if degree[i]%2!=0:\n",
    "                t+=1\n",
    "        if t==0:\n",
    "            print(\"Given graph is a Eulerian Circuit\")\n",
    "        elif t==2:\n",
    "            print(\"Given graph is a Eulerian Path\")\n",
    "        else:\n",
    "            print(\"This graph doesn't have any Eulerian properties\")"
   ]
  }
 ],
 "metadata": {
  "kernelspec": {
   "display_name": "Python 3",
   "language": "python",
   "name": "python3"
  },
  "language_info": {
   "codemirror_mode": {
    "name": "ipython",
    "version": 3
   },
   "file_extension": ".py",
   "mimetype": "text/x-python",
   "name": "python",
   "nbconvert_exporter": "python",
   "pygments_lexer": "ipython3",
   "version": "3.8.5"
  }
 },
 "nbformat": 4,
 "nbformat_minor": 4
}
