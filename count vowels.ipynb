{
 "cells": [
  {
   "cell_type": "code",
   "execution_count": null,
   "metadata": {},
   "outputs": [],
   "source": [
    "def count_vow(s):\n",
    "    vow={'a':1,'e':5,'i':9,'o':15,'u':21}\n",
    "    c_vow= 0\n",
    "    sum_vow=0\n",
    "    for _ in s:\n",
    "        if _ in vow:\n",
    "            c_vow+=1\n",
    "            sum_vow+=vow[_]\n",
    "    print(\"Number of vow are: {} and sum is {}\".format(c_vow, sum_vow))"
   ]
  }
 ],
 "metadata": {
  "kernelspec": {
   "display_name": "Python 3",
   "language": "python",
   "name": "python3"
  },
  "language_info": {
   "codemirror_mode": {
    "name": "ipython",
    "version": 3
   },
   "file_extension": ".py",
   "mimetype": "text/x-python",
   "name": "python",
   "nbconvert_exporter": "python",
   "pygments_lexer": "ipython3",
   "version": "3.8.5"
  }
 },
 "nbformat": 4,
 "nbformat_minor": 4
}
