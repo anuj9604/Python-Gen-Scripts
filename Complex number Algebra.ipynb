{
 "cells": [
  {
   "cell_type": "code",
   "execution_count": null,
   "metadata": {},
   "outputs": [],
   "source": [
    "class Complex_Num():\n",
    "    def __init__(self, real, imag):\n",
    "        self.real=real\n",
    "        self.imag=imag\n",
    "        self.mag=(real**2+imag**2)**0.5  \n",
    "    \n",
    "    def add(self, real2, imag2):\n",
    "        add_real=self.real+real2\n",
    "        add_imag=self.imag+imag2\n",
    "        print(f\"{add_real}+{add_imag}j\")\n",
    "        \n",
    "    def multi(self, real2, imag2):\n",
    "        multi_real=(self.real*real2)-(self.imag*imag2)\n",
    "        multi_imag=(self.real*imag2)+(self.imag*real2)\n",
    "        print(f\"{multi_real}+{multi_imag}j\")\n",
    "    \n",
    "    def negation(self):\n",
    "        neg_real=-self.real\n",
    "        neg_imag=-self.imag\n",
    "        print(f\"{neg_real}{neg_imag}j\")\n",
    "        \n",
    "    def inverse(self):\n",
    "        inverse_real=round((self.real)/(self.mag)**2, 3)\n",
    "        inverse_imag=-round((self.imag)/(self.mag)**2, 3)\n",
    "        print(f\"{inverse_real} {inverse_imag}j\")"
   ]
  }
 ],
 "metadata": {
  "kernelspec": {
   "display_name": "Python 3",
   "language": "python",
   "name": "python3"
  },
  "language_info": {
   "codemirror_mode": {
    "name": "ipython",
    "version": 3
   },
   "file_extension": ".py",
   "mimetype": "text/x-python",
   "name": "python",
   "nbconvert_exporter": "python",
   "pygments_lexer": "ipython3",
   "version": "3.8.5"
  }
 },
 "nbformat": 4,
 "nbformat_minor": 4
}
