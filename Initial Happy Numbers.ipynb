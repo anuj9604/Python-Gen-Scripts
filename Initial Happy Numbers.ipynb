{
 "cells": [
  {
   "cell_type": "code",
   "execution_count": null,
   "metadata": {},
   "outputs": [],
   "source": [
    "#Efficient working code\n",
    "\n",
    "def happy_numbers(n):\n",
    "    past = set()\n",
    "    while n != 1:\n",
    "        n = sum(int(i)**2 for i in str(n))\n",
    "        if n in past:\n",
    "            return False\n",
    "        past.add(n)\n",
    "    return True\n",
    "print([x for x in range(500) if happy_numbers(x)][:10])"
   ]
  },
  {
   "cell_type": "code",
   "execution_count": null,
   "metadata": {},
   "outputs": [],
   "source": [
    "# My non functional code\n",
    "\n",
    "def happy_num():\n",
    "    happy_num=[1]\n",
    "    for i in range(2,100):\n",
    "        buff_li=[]\n",
    "        while i not in buff_li or i!=1:\n",
    "            buff_li.append(i)\n",
    "            tent_lis=[int(dig) for dig in str(i)]\n",
    "            i=0\n",
    "            for dig in tent_lis:\n",
    "                i+=dig**2\n",
    "        if i in buff_li:\n",
    "            continue\n",
    "        else:\n",
    "            happy_num.append(buff_li[0])\n",
    "            if len(happy_num)==8:\n",
    "                break\n",
    "            else:\n",
    "                pass\n",
    "    print(f\"First 8 happy numbers are {happy_num} \\n :)\")       "
   ]
  }
 ],
 "metadata": {
  "kernelspec": {
   "display_name": "Python 3",
   "language": "python",
   "name": "python3"
  },
  "language_info": {
   "codemirror_mode": {
    "name": "ipython",
    "version": 3
   },
   "file_extension": ".py",
   "mimetype": "text/x-python",
   "name": "python",
   "nbconvert_exporter": "python",
   "pygments_lexer": "ipython3",
   "version": "3.8.5"
  }
 },
 "nbformat": 4,
 "nbformat_minor": 4
}
