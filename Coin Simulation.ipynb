{
 "cells": [
  {
   "cell_type": "code",
   "execution_count": 1,
   "metadata": {},
   "outputs": [],
   "source": [
    "import random\n",
    "def coin_flip():\n",
    "    possibilities=['Heads', 'Tails']\n",
    "    flip_history={\"Heads\": 0, \"Tails\": 0}\n",
    "    run= True\n",
    "    while run:\n",
    "        flip=input(\"Do you want to flip a coin? \")\n",
    "        if flip.lower()[0]=='y':\n",
    "            outcome=random.choice(possibilities)\n",
    "            print(\"It's {}\".format(outcome))\n",
    "            if outcome==\"Heads\":\n",
    "                flip_history[\"Heads\"]+=1\n",
    "            else:\n",
    "                flip_history[\"Tails\"]+=1\n",
    "        else:\n",
    "            run=False\n",
    "    print(\"Thank you for playing. You played {} heads and {} Tails\".format(flip_history[\"Heads\"], flip_history[\"Tails\"]))"
   ]
  }
 ],
 "metadata": {
  "kernelspec": {
   "display_name": "Python 3",
   "language": "python",
   "name": "python3"
  },
  "language_info": {
   "codemirror_mode": {
    "name": "ipython",
    "version": 3
   },
   "file_extension": ".py",
   "mimetype": "text/x-python",
   "name": "python",
   "nbconvert_exporter": "python",
   "pygments_lexer": "ipython3",
   "version": "3.8.5"
  }
 },
 "nbformat": 4,
 "nbformat_minor": 4
}
