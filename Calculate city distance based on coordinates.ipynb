{
 "cells": [
  {
   "cell_type": "code",
   "execution_count": 37,
   "metadata": {},
   "outputs": [],
   "source": [
    "from geopy.geocoders import Nominatim\n",
    "import math\n",
    "def city_dist():\n",
    "    city1, city2= input(\"Enter two cities for which you want to know the proximity: \").split()\n",
    "\n",
    "    #making an instance of Nominatim class\n",
    "    geolocator1 = Nominatim(user_agent=\"my_request\")\n",
    "    geolocator2 = Nominatim(user_agent=\"my_request\")\n",
    "    #applying geocode method to get the location\n",
    "    location1 = geolocator1.geocode(city1)\n",
    "    location2 = geolocator2.geocode(city2)\n",
    "    #printing coordinates\n",
    "    print(f\"Lat and Long of {city1} is {(location1.latitude, location1.longitude)}\")\n",
    "    print(f\"Lat and Long of {city2} is {(location2.latitude, location2.longitude)}\")\n",
    "    dsig=(math.sin(math.radians(location1.latitude)))*math.sin(math.radians(location2.latitude))+(math.cos(math.radians(location1.latitude))*math.cos(math.radians(location2.latitude))*math.cos(math.radians((location1.longitude-location2.longitude))))\n",
    "    alpha=math.degrees(math.acos(dsig))\n",
    "    dist=(2*3.14*6371*alpha)/360\n",
    "    print(f\"Distance between {city1} and {city2} is {dist} kilometres.\")"
   ]
  },
  {
   "cell_type": "code",
   "execution_count": 43,
   "metadata": {},
   "outputs": [
    {
     "name": "stdout",
     "output_type": "stream",
     "text": [
      "Enter two cities for which you want to know the proximity: johannesburg munich\n",
      "Lat and Long of johannesburg is (-26.205, 28.049722)\n",
      "Lat and Long of munich is (48.1371079, 11.5753822)\n",
      "Distance between johannesburg and munich is 8424.273000285351 kilometres.\n"
     ]
    }
   ],
   "source": [
    "city_dist()"
   ]
  }
 ],
 "metadata": {
  "kernelspec": {
   "display_name": "Python 3",
   "language": "python",
   "name": "python3"
  },
  "language_info": {
   "codemirror_mode": {
    "name": "ipython",
    "version": 3
   },
   "file_extension": ".py",
   "mimetype": "text/x-python",
   "name": "python",
   "nbconvert_exporter": "python",
   "pygments_lexer": "ipython3",
   "version": "3.8.5"
  }
 },
 "nbformat": 4,
 "nbformat_minor": 4
}
