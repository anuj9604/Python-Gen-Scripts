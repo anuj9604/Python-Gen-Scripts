{
 "cells": [
  {
   "cell_type": "code",
   "execution_count": null,
   "metadata": {},
   "outputs": [],
   "source": [
    "def eratosthenes():    \n",
    "    composite_num= set()\n",
    "    prime_num= set()\n",
    "    for i in range(3, 1000, 2):\n",
    "        mult_val=i\n",
    "        while mult_val<1000:\n",
    "            mult_val+=i\n",
    "            composite_num.add(mult_val)\n",
    "    for j in range(3, 1000, 2):\n",
    "        if j not in composite_num:\n",
    "            prime_num.add(j)\n",
    "    prime_num.add(2)\n",
    "    prime_num_final=list(prime_num)\n",
    "    prime_num_final.sort()\n",
    "    print(prime_num_final)"
   ]
  }
 ],
 "metadata": {
  "kernelspec": {
   "display_name": "Python 3",
   "language": "python",
   "name": "python3"
  },
  "language_info": {
   "codemirror_mode": {
    "name": "ipython",
    "version": 3
   },
   "file_extension": ".py",
   "mimetype": "text/x-python",
   "name": "python",
   "nbconvert_exporter": "python",
   "pygments_lexer": "ipython3",
   "version": "3.8.5"
  }
 },
 "nbformat": 4,
 "nbformat_minor": 4
}
