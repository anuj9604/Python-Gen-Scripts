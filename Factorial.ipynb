{
 "cells": [
  {
   "cell_type": "code",
   "execution_count": null,
   "metadata": {},
   "outputs": [],
   "source": [
    "def factorial():\n",
    "    n=int(input(\"Enter the number for which you want to find the factorial: \"))\n",
    "    fact=1\n",
    "    if n==0 or n==1:\n",
    "        print(f\"{n}!=1\")\n",
    "    else:\n",
    "        for i in range(1, n+1):\n",
    "            fact*=i\n",
    "        print(f\"{n}!={fact}\")"
   ]
  },
  {
   "cell_type": "code",
   "execution_count": null,
   "metadata": {},
   "outputs": [],
   "source": [
    "def recur_factorial(n):\n",
    "   if n == 1:\n",
    "       return n\n",
    "   else:\n",
    "       return n*recur_factorial(n-1)\n",
    "\n",
    "num = 7\n",
    "\n",
    "if num < 0:\n",
    "   print(\"Sorry, factorial does not exist for negative numbers\")\n",
    "elif num == 0:\n",
    "   print(\"The factorial of 0 is 1\")\n",
    "else:\n",
    "   print(\"The factorial of\", num, \"is\", recur_factorial(num))"
   ]
  }
 ],
 "metadata": {
  "kernelspec": {
   "display_name": "Python 3",
   "language": "python",
   "name": "python3"
  },
  "language_info": {
   "codemirror_mode": {
    "name": "ipython",
    "version": 3
   },
   "file_extension": ".py",
   "mimetype": "text/x-python",
   "name": "python",
   "nbconvert_exporter": "python",
   "pygments_lexer": "ipython3",
   "version": "3.8.5"
  }
 },
 "nbformat": 4,
 "nbformat_minor": 4
}
