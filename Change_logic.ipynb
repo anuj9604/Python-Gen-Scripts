{
 "cells": [
  {
   "cell_type": "code",
   "execution_count": null,
   "metadata": {},
   "outputs": [],
   "source": [
    "import random\n",
    "def change_return():\n",
    "    cost=round(random.uniform(1, 100), 2)\n",
    "    one_dollars=0\n",
    "    quarters=0\n",
    "    dimes=0\n",
    "    nickels=0\n",
    "    pennies=0\n",
    "    print(\"Your order costs {}\\n\".format(cost))\n",
    "    given_amount=int(input(\"How much are you giving?\\n\"))\n",
    "    while cost>given_amount:\n",
    "        print(\"Please give {} more!, as your total cost is {}\\n\".format(cost-given_amount, cost))\n",
    "        given_amount=int(input(\"How much total money are you giving me now?\\n\"))\n",
    "    change=given_amount-cost\n",
    "    int_change=int(change)\n",
    "    dec_change=round(change-int_change, 2)\n",
    "    if int_change!=0:\n",
    "        one_dollars=int_change\n",
    "    quarters=dec_change//(.25)\n",
    "    dec_change=dec_change%0.25\n",
    "    dimes=dec_change//(.10)\n",
    "    dec_change=dec_change%.10\n",
    "    nickels=dec_change//(.05)\n",
    "    dec_change=dec_change%.05\n",
    "    pennies=dec_change//(.01)\n",
    "    print(\"Here are your {} dollars, {} quarter, {} dimes, {} nickels and {} pennies\".format(one_dollars, quarters, dimes, nickels, pennies))"
   ]
  }
 ],
 "metadata": {
  "kernelspec": {
   "display_name": "Python 3",
   "language": "python",
   "name": "python3"
  },
  "language_info": {
   "codemirror_mode": {
    "name": "ipython",
    "version": 3
   },
   "file_extension": ".py",
   "mimetype": "text/x-python",
   "name": "python",
   "nbconvert_exporter": "python",
   "pygments_lexer": "ipython3",
   "version": "3.8.5"
  }
 },
 "nbformat": 4,
 "nbformat_minor": 4
}
