{
 "cells": [
  {
   "cell_type": "code",
   "execution_count": null,
   "metadata": {},
   "outputs": [],
   "source": [
    "def bin2dec():\n",
    "    preference=input(\"What do you want to convert to decimal or binary: \")\n",
    "    if preference[0].lower()==\"b\":\n",
    "        dec=int(input(\"Enter a decimal number which you wanna convert to binary: \"))\n",
    "        #dec_deci=dec-dec_int\n",
    "        binary_rev_list=[]\n",
    "        quo=1\n",
    "        while quo!=0:\n",
    "            quo=dec//2\n",
    "            rem=dec%2\n",
    "            binary_rev_list.append(rem)\n",
    "            dec=quo\n",
    "        binary_list=binary_rev_list[::-1]\n",
    "        binary_str_list=[str(ele) for ele in binary_list]\n",
    "        binary_str=\"\".join(binary_str_list)\n",
    "        binary=int(binary_str)\n",
    "        print(binary)\n",
    "    else:\n",
    "        binary=input(\"Enter a binary number which you wanna convert to decimal: \")\n",
    "        dec=0\n",
    "        i=0\n",
    "        for dig in binary[::-1]:\n",
    "            dec+=int(dig)*(2**i)\n",
    "            i+=1\n",
    "        print(dec)"
   ]
  }
 ],
 "metadata": {
  "kernelspec": {
   "display_name": "Python 3",
   "language": "python",
   "name": "python3"
  },
  "language_info": {
   "codemirror_mode": {
    "name": "ipython",
    "version": 3
   },
   "file_extension": ".py",
   "mimetype": "text/x-python",
   "name": "python",
   "nbconvert_exporter": "python",
   "pygments_lexer": "ipython3",
   "version": "3.8.5"
  }
 },
 "nbformat": 4,
 "nbformat_minor": 4
}
