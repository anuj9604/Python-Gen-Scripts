{
 "cells": [
  {
   "cell_type": "code",
   "execution_count": null,
   "metadata": {},
   "outputs": [],
   "source": [
    "def pig_latin(s):\n",
    "    vow=['a','e','i','o','u']\n",
    "    if s[0].lower() not in vow and s[1].lower() in vow:\n",
    "        print(s[1:]+s[0]+'ay')\n",
    "    elif s[0].lower() not in vow and s[1].lower() not in vow:\n",
    "        print(s+'ay')\n",
    "    else:\n",
    "        print(s+'way')"
   ]
  }
 ],
 "metadata": {
  "kernelspec": {
   "display_name": "Python 3",
   "language": "python",
   "name": "python3"
  },
  "language_info": {
   "codemirror_mode": {
    "name": "ipython",
    "version": 3
   },
   "file_extension": ".py",
   "mimetype": "text/x-python",
   "name": "python",
   "nbconvert_exporter": "python",
   "pygments_lexer": "ipython3",
   "version": "3.8.5"
  }
 },
 "nbformat": 4,
 "nbformat_minor": 4
}
