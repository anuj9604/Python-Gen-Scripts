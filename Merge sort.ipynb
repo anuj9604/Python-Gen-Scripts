{
 "cells": [
  {
   "cell_type": "code",
   "execution_count": null,
   "metadata": {},
   "outputs": [],
   "source": [
    "def create_rand_array(size=10, max=50):\n",
    "    from random import randint\n",
    "    return [randint(0, max) for _ in range(size)]\n",
    "\n",
    "def merge(a, b):\n",
    "    c=[]\n",
    "    i,j=0,0\n",
    "    while i<len(a) and j<len(b):\n",
    "        if a[i]<b[j]:\n",
    "            c.append(a[i])\n",
    "            i+=1\n",
    "        else:\n",
    "            c.append(b[j])\n",
    "            j+=1\n",
    "    if i==len(a): c.extend(b[j:])\n",
    "    else:         c.extend(a[i:])\n",
    "    return c\n",
    "    \n",
    "def merge_sort(a):\n",
    "    if len(a)<=1:\n",
    "        return a\n",
    "    lower, upper= merge_sort(a[:int(len(a)/2)]), merge_sort(a[int(len(a)/2):])\n",
    "    return merge(lower, upper)"
   ]
  }
 ],
 "metadata": {
  "kernelspec": {
   "display_name": "Python 3",
   "language": "python",
   "name": "python3"
  },
  "language_info": {
   "codemirror_mode": {
    "name": "ipython",
    "version": 3
   },
   "file_extension": ".py",
   "mimetype": "text/x-python",
   "name": "python",
   "nbconvert_exporter": "python",
   "pygments_lexer": "ipython3",
   "version": "3.8.5"
  }
 },
 "nbformat": 4,
 "nbformat_minor": 4
}
