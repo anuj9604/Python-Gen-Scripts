{
 "cells": [
  {
   "cell_type": "code",
   "execution_count": null,
   "metadata": {},
   "outputs": [],
   "source": [
    "from sympy import nextprime\n",
    "def prime_factor(num):\n",
    "    p=2\n",
    "    prime_fact=[]\n",
    "    while num!=1:\n",
    "        if num%p==0:\n",
    "            prime_fact.append(p)\n",
    "            while num%p==0:\n",
    "                num=num/p\n",
    "        p=nextprime(p)\n",
    "    print(max(prime_fact))\n",
    "\n",
    "prime_factor(600851475143)"
   ]
  }
 ],
 "metadata": {
  "kernelspec": {
   "display_name": "Python 3",
   "language": "python",
   "name": "python3"
  },
  "language_info": {
   "codemirror_mode": {
    "name": "ipython",
    "version": 3
   },
   "file_extension": ".py",
   "mimetype": "text/x-python",
   "name": "python",
   "nbconvert_exporter": "python",
   "pygments_lexer": "ipython3",
   "version": "3.8.5"
  }
 },
 "nbformat": 4,
 "nbformat_minor": 4
}
