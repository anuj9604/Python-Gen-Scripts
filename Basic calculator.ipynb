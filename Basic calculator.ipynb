{
 "cells": [
  {
   "cell_type": "code",
   "execution_count": null,
   "metadata": {},
   "outputs": [],
   "source": [
    "import math\n",
    "def calculator():\n",
    "    \n",
    "    operation=int(input(\"What operation you wanna perform(Enter the number associated with each operation)? 1.Addition, 2.Subtraction, 3.Multiplication, 4.Division, 5. Exponential, 6.Logarithmic, 7.Trigonometric or 8.Mod\"))\n",
    "    if operation in range(1,9):\n",
    "        if operation==1:\n",
    "            a, b=input(\"Enter numbers you want to add: \").split()\n",
    "            print(\"Sum is: {}\".format(int(a)+int(b)))\n",
    "        elif operation==2:\n",
    "            a, b=input(\"Enter numbers you want to subtract: \").split()\n",
    "            print(\"Difference is: {}\".format(int(a)-int(b)))\n",
    "        elif operation==3:\n",
    "            a, b=input(\"Enter numbers you want to multiply: \").split()\n",
    "            print(\"Product is: {}\".format(int(a)*int(b)))\n",
    "        elif operation==4:\n",
    "            a, b=input(\"Enter numbers you want to divide: \").split()\n",
    "            print(\"Division is: {}\".format(int(a)/int(b)))\n",
    "        elif operation==5:\n",
    "            a, b=input(\"Enter a base and the power for the exponential function\").split()\n",
    "            print(\"The answer is {}\".format(int(a)**int(b)))\n",
    "        elif operation==6:\n",
    "            a, b=input(\"Enter enter a base and the final for log: \").split()\n",
    "            print(\"Log is: {}\".format(math.log(int(a), int(b))))\n",
    "        elif operation==7:\n",
    "            trig_func, ang_Deg_str=input(\"Enter the trigonometric function and the angle for which you want to find the value: \").split()\n",
    "            ang_Rad=math.radians(int(ang_Deg_str))\n",
    "            if trig_func==\"sin\":\n",
    "                print(\"Sine of {} is: {}\".format(ang_Deg_str, round(math.sin(ang_Rad), 3)))\n",
    "            elif trig_func==\"cos\":\n",
    "                print(\"Cosine of {} is: {}\".format(ang_Deg_str, round(math.cos(ang_Rad), 3)))\n",
    "            elif trig_func==\"tan\":\n",
    "                print(\"Tangent of {} is: {}\".format(ang_Deg_str, round(math.tan(ang_Rad), 3)))\n",
    "            elif trig_func==\"cosec\":\n",
    "                print(\"Cosecant of {} is: {}\".format(ang_Deg_str, round(1/(math.sin(ang_Rad)), 3)))\n",
    "            elif trig_func==\"sec\":\n",
    "                print(\"Secant of {} is: {}\".format(ang_Deg_str, round(1/(math.cos(ang_Rad)), 3)))\n",
    "            else:\n",
    "                print(\"Cotangent of {} is: {}\".format(ang_Deg_str, round(1/(math.tan(ang_Rad)), 3)))\n",
    "        else:\n",
    "            a=int(input(\"Enter the value you want to find the modulus of: \"))\n",
    "            if a<0:\n",
    "                print(\"The mod is: {}\",format(-a))\n",
    "            else:\n",
    "                print(\"The mod is: {}\",format(a))\n",
    "    else:\n",
    "        print(\"Invalid value, please run again. Thank you!\")"
   ]
  }
 ],
 "metadata": {
  "kernelspec": {
   "display_name": "Python 3",
   "language": "python",
   "name": "python3"
  },
  "language_info": {
   "codemirror_mode": {
    "name": "ipython",
    "version": 3
   },
   "file_extension": ".py",
   "mimetype": "text/x-python",
   "name": "python",
   "nbconvert_exporter": "python",
   "pygments_lexer": "ipython3",
   "version": "3.8.5"
  }
 },
 "nbformat": 4,
 "nbformat_minor": 4
}
