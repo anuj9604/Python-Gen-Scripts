{
 "cells": [
  {
   "cell_type": "code",
   "execution_count": null,
   "metadata": {},
   "outputs": [],
   "source": [
    "import re\n",
    "def cc_validate():\n",
    "    cc=input(\"Enter your 16 digit Credit Card number that you want to vaidate: \")\n",
    "    chk_sum=0\n",
    "    cc_dig_list=[]\n",
    "    for i, element in enumerate(cc):\n",
    "        dig_element=int(element)\n",
    "        if i%2==1:\n",
    "            dig_element*=2\n",
    "            if dig_element>9:\n",
    "                decimate_i1=dig_element//10\n",
    "                decimate_i2=dig_element%10\n",
    "                dig_element=decimate_i1+decimate_i2\n",
    "                cc_dig_list.append(dig_element)\n",
    "            else:\n",
    "                cc_dig_list.append(dig_element)\n",
    "        else:\n",
    "            cc_dig_list.append(dig_element)\n",
    "    for ele in cc_dig_list[0:-1]:\n",
    "        chk_sum+=ele\n",
    "    if (chk_sum+cc_dig_list[-1])%10==0:\n",
    "        if cc[0]=='4':\n",
    "            print(\"This is a Visa card\")\n",
    "        elif re.search(r\"^5[1-5][0-9]{5,}|222[1-9][0-9]{3,}|22[3-9][0-9]{4,}|2[3-6][0-9]{5,}|27[0-1][0-9]{4,}|2720[0-9]{3,}$\", cc):\n",
    "            print(\"This is a Mastercard\")\n",
    "        elif re.search(r\"^34[0-9]{5,}$|^37[0-9]{5,}$\", cc):\n",
    "            print(\"This is an American Express\")\n",
    "        elif re.search(r\"^3(?:0[0-5]|[68][0-9])[0-9]{4,}$\", cc):\n",
    "            print(\"This is a Diner's Club card\")\n",
    "        elif re.search(r\"^6(?:011|5[0-9]{2})[0-9]{3,}$\", cc):\n",
    "            print(\"This is a Discoverer card\")\n",
    "        elif re.search(r\"^(?:2131|1800|35[0-9]{3})[0-9]{3,}$\", cc):\n",
    "            print(\"This is a JCB card\")\n",
    "        else:\n",
    "            print(\"This is a valid card but vendor is not registered!\")\n",
    "    else:\n",
    "        print(\"Invalid card number\")    "
   ]
  }
 ],
 "metadata": {
  "kernelspec": {
   "display_name": "Python 3",
   "language": "python",
   "name": "python3"
  },
  "language_info": {
   "codemirror_mode": {
    "name": "ipython",
    "version": 3
   },
   "file_extension": ".py",
   "mimetype": "text/x-python",
   "name": "python",
   "nbconvert_exporter": "python",
   "pygments_lexer": "ipython3",
   "version": "3.8.5"
  }
 },
 "nbformat": 4,
 "nbformat_minor": 4
}
