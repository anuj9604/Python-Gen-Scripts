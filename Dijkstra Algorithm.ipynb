{
 "cells": [
  {
   "cell_type": "code",
   "execution_count": null,
   "metadata": {},
   "outputs": [],
   "source": [
    "import sys\n",
    "\n",
    "class Graph():\n",
    "    \n",
    "    def __init__(self,num_v):\n",
    "        self.num_v= num_v\n",
    "        self.adj_dict={}\n",
    "        for i in range(num_v):\n",
    "            self.adj_dict[i]=[]\n",
    "            for _ in range(num_v):\n",
    "                self.adj_dict[i].append(0)\n",
    "    \n",
    "    def add_Edge(self, a, b, w):\n",
    "        self.adj_dict[a][b]=w\n",
    "        self.adj_dict[b][a]=w\n",
    "        \n",
    "    def is_connected(self):\n",
    "        for _ in range(self.num_v):\n",
    "            if max(self.adj_dict[_])==0:\n",
    "                return \"This Graph is not connected\"\n",
    "        return \"This Graph is connected\"\n",
    "    \n",
    "    def dijkstra_next_node(self, t_dist, visited):\n",
    "        b_min=sys.maxsize\n",
    "        b_min_ind=0\n",
    "        for _ in range(self.num_v):\n",
    "            if 0<t_dist[_]<sys.maxsize and visited[_]==False:\n",
    "                if t_dist[_]<b_min: \n",
    "                    b_min=t_dist[_]\n",
    "                    b_min_ind=_\n",
    "        visited[b_min_ind]=True\n",
    "        buff_src=b_min_ind\n",
    "        return buff_src, visited\n",
    "        \n",
    "        \n",
    "    def t_dist_update(self, buff_src, t_dist, visited):\n",
    "        for _ in range(self.num_v):\n",
    "            if self.adj_dict[buff_src][_]!=0 and visited[_]==False and t_dist[_]>(t_dist[buff_src]+self.adj_dict[buff_src][_]):\n",
    "                t_dist[_]=t_dist[buff_src]+self.adj_dict[buff_src][_]\n",
    "        return t_dist\n",
    "    \n",
    "    def dijkstra(self, src):\n",
    "        t_dist=[sys.maxsize for _ in range(self.num_v)]\n",
    "        visited=[False for _ in range(self.num_v)]\n",
    "        t_dist[src]= 0\n",
    "        visited[src]=True\n",
    "        buff_src=src\n",
    "        while False in visited:\n",
    "            t_dist=self.t_dist_update(buff_src, t_dist, visited)\n",
    "            buff_src, visited=self.dijkstra_next_node(t_dist, visited)\n",
    "        for _ in range(self.num_v):\n",
    "            print(\"The shortest distance of node {} with source node is {}\".format(_, t_dist[_]))    "
   ]
  }
 ],
 "metadata": {
  "kernelspec": {
   "display_name": "Python 3",
   "language": "python",
   "name": "python3"
  },
  "language_info": {
   "codemirror_mode": {
    "name": "ipython",
    "version": 3
   },
   "file_extension": ".py",
   "mimetype": "text/x-python",
   "name": "python",
   "nbconvert_exporter": "python",
   "pygments_lexer": "ipython3",
   "version": "3.8.5"
  }
 },
 "nbformat": 4,
 "nbformat_minor": 4
}
