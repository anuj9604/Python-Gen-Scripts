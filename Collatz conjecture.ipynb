{
 "cells": [
  {
   "cell_type": "code",
   "execution_count": null,
   "metadata": {},
   "outputs": [],
   "source": [
    "def collatz_conj():\n",
    "    n=int(input(\"Enter a number, greater than 1 and I'll apply collatz algorithm on it: \"))\n",
    "    num=n\n",
    "    steps=0\n",
    "    while num!=1:\n",
    "        if num%2==0:\n",
    "            num=num/2\n",
    "            steps+=1\n",
    "        else:\n",
    "            num=(3*num+1)/2\n",
    "            steps+=2\n",
    "    print(\"It took {}, {} step/s to reach one according to collatz conjecture\".format(n, steps))"
   ]
  }
 ],
 "metadata": {
  "kernelspec": {
   "display_name": "Python 3",
   "language": "python",
   "name": "python3"
  },
  "language_info": {
   "codemirror_mode": {
    "name": "ipython",
    "version": 3
   },
   "file_extension": ".py",
   "mimetype": "text/x-python",
   "name": "python",
   "nbconvert_exporter": "python",
   "pygments_lexer": "ipython3",
   "version": "3.8.5"
  }
 },
 "nbformat": 4,
 "nbformat_minor": 4
}
